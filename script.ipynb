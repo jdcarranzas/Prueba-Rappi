{
 "cells": [
  {
   "cell_type": "markdown",
   "metadata": {},
   "source": [
    "# Prueba Rappi"
   ]
  },
  {
   "cell_type": "code",
   "execution_count": 2,
   "metadata": {},
   "outputs": [],
   "source": [
    "import pandas as pd\n",
    "import numpy as np\n",
    "import seaborn as sns\n",
    "import os\n",
    "\n",
    "os.chdir(r\"E:/Prueba Rappi/Prueba-Rappi/documentos\")\n"
   ]
  },
  {
   "cell_type": "code",
   "execution_count": 3,
   "metadata": {},
   "outputs": [],
   "source": [
    "dataset = pd.read_csv(\"Orders.csv\")\n",
    "\n",
    "# Convertir las fechas a datetime\n",
    "dataset['created_at'] = pd.to_datetime(dataset['created_at'])\n"
   ]
  },
  {
   "cell_type": "markdown",
   "metadata": {},
   "source": [
    "## 1. Análisis preliminar de los datos\n",
    "\n",
    "En esta sección nos centraremos en analizar los datos de manera que nos permita dar una mejor visión y contexto de los registros trabajados. "
   ]
  },
  {
   "cell_type": "markdown",
   "metadata": {},
   "source": [
    "### Identificación de valores faltantes o valores nulos"
   ]
  },
  {
   "cell_type": "code",
   "execution_count": 4,
   "metadata": {},
   "outputs": [
    {
     "data": {
      "text/plain": [
       "order_id             0\n",
       "store_id             0\n",
       "to_user_distance     0\n",
       "to_user_elevation    0\n",
       "total_earning        0\n",
       "created_at           0\n",
       "taken                0\n",
       "dtype: int64"
      ]
     },
     "execution_count": 4,
     "metadata": {},
     "output_type": "execute_result"
    }
   ],
   "source": [
    "dataset.isnull().sum()"
   ]
  },
  {
   "cell_type": "code",
   "execution_count": 5,
   "metadata": {},
   "outputs": [
    {
     "data": {
      "text/plain": [
       "order_id             0\n",
       "store_id             0\n",
       "to_user_distance     0\n",
       "to_user_elevation    0\n",
       "total_earning        0\n",
       "created_at           0\n",
       "taken                0\n",
       "dtype: int64"
      ]
     },
     "execution_count": 5,
     "metadata": {},
     "output_type": "execute_result"
    }
   ],
   "source": [
    "dataset.isna().sum()"
   ]
  },
  {
   "cell_type": "markdown",
   "metadata": {},
   "source": [
    "En este conjunto de datos, no se identifican valores faltantes o nulos."
   ]
  },
  {
   "cell_type": "markdown",
   "metadata": {},
   "source": [
    "### Estadística descriptiva básica"
   ]
  },
  {
   "cell_type": "code",
   "execution_count": 6,
   "metadata": {},
   "outputs": [
    {
     "data": {
      "text/html": [
       "<div>\n",
       "<style scoped>\n",
       "    .dataframe tbody tr th:only-of-type {\n",
       "        vertical-align: middle;\n",
       "    }\n",
       "\n",
       "    .dataframe tbody tr th {\n",
       "        vertical-align: top;\n",
       "    }\n",
       "\n",
       "    .dataframe thead th {\n",
       "        text-align: right;\n",
       "    }\n",
       "</style>\n",
       "<table border=\"1\" class=\"dataframe\">\n",
       "  <thead>\n",
       "    <tr style=\"text-align: right;\">\n",
       "      <th></th>\n",
       "      <th>order_id</th>\n",
       "      <th>store_id</th>\n",
       "      <th>to_user_distance</th>\n",
       "      <th>to_user_elevation</th>\n",
       "      <th>total_earning</th>\n",
       "      <th>taken</th>\n",
       "    </tr>\n",
       "  </thead>\n",
       "  <tbody>\n",
       "    <tr>\n",
       "      <th>count</th>\n",
       "      <td>1.255490e+05</td>\n",
       "      <td>1.255490e+05</td>\n",
       "      <td>125549.000000</td>\n",
       "      <td>125549.000000</td>\n",
       "      <td>125549.000000</td>\n",
       "      <td>125549.000000</td>\n",
       "    </tr>\n",
       "    <tr>\n",
       "      <th>mean</th>\n",
       "      <td>1.507838e+07</td>\n",
       "      <td>7.485716e+08</td>\n",
       "      <td>1.476668</td>\n",
       "      <td>27.369828</td>\n",
       "      <td>5374.313360</td>\n",
       "      <td>0.922827</td>\n",
       "    </tr>\n",
       "    <tr>\n",
       "      <th>std</th>\n",
       "      <td>4.752629e+05</td>\n",
       "      <td>3.298381e+08</td>\n",
       "      <td>0.846750</td>\n",
       "      <td>84.818191</td>\n",
       "      <td>1784.919817</td>\n",
       "      <td>0.266867</td>\n",
       "    </tr>\n",
       "    <tr>\n",
       "      <th>min</th>\n",
       "      <td>1.421073e+07</td>\n",
       "      <td>3.000000e+07</td>\n",
       "      <td>0.000000</td>\n",
       "      <td>-260.333130</td>\n",
       "      <td>0.000000</td>\n",
       "      <td>0.000000</td>\n",
       "    </tr>\n",
       "    <tr>\n",
       "      <th>25%</th>\n",
       "      <td>1.467255e+07</td>\n",
       "      <td>9.000043e+08</td>\n",
       "      <td>0.809372</td>\n",
       "      <td>-18.417603</td>\n",
       "      <td>4200.000000</td>\n",
       "      <td>1.000000</td>\n",
       "    </tr>\n",
       "    <tr>\n",
       "      <th>50%</th>\n",
       "      <td>1.509367e+07</td>\n",
       "      <td>9.000077e+08</td>\n",
       "      <td>1.360573</td>\n",
       "      <td>11.781250</td>\n",
       "      <td>5200.000000</td>\n",
       "      <td>1.000000</td>\n",
       "    </tr>\n",
       "    <tr>\n",
       "      <th>75%</th>\n",
       "      <td>1.547552e+07</td>\n",
       "      <td>9.000127e+08</td>\n",
       "      <td>2.003069</td>\n",
       "      <td>62.978638</td>\n",
       "      <td>6400.000000</td>\n",
       "      <td>1.000000</td>\n",
       "    </tr>\n",
       "    <tr>\n",
       "      <th>max</th>\n",
       "      <td>1.590252e+07</td>\n",
       "      <td>9.000173e+08</td>\n",
       "      <td>9.360177</td>\n",
       "      <td>975.226074</td>\n",
       "      <td>108200.000000</td>\n",
       "      <td>1.000000</td>\n",
       "    </tr>\n",
       "  </tbody>\n",
       "</table>\n",
       "</div>"
      ],
      "text/plain": [
       "           order_id      store_id  to_user_distance  to_user_elevation  \\\n",
       "count  1.255490e+05  1.255490e+05     125549.000000      125549.000000   \n",
       "mean   1.507838e+07  7.485716e+08          1.476668          27.369828   \n",
       "std    4.752629e+05  3.298381e+08          0.846750          84.818191   \n",
       "min    1.421073e+07  3.000000e+07          0.000000        -260.333130   \n",
       "25%    1.467255e+07  9.000043e+08          0.809372         -18.417603   \n",
       "50%    1.509367e+07  9.000077e+08          1.360573          11.781250   \n",
       "75%    1.547552e+07  9.000127e+08          2.003069          62.978638   \n",
       "max    1.590252e+07  9.000173e+08          9.360177         975.226074   \n",
       "\n",
       "       total_earning          taken  \n",
       "count  125549.000000  125549.000000  \n",
       "mean     5374.313360       0.922827  \n",
       "std      1784.919817       0.266867  \n",
       "min         0.000000       0.000000  \n",
       "25%      4200.000000       1.000000  \n",
       "50%      5200.000000       1.000000  \n",
       "75%      6400.000000       1.000000  \n",
       "max    108200.000000       1.000000  "
      ]
     },
     "execution_count": 6,
     "metadata": {},
     "output_type": "execute_result"
    }
   ],
   "source": [
    "dataset.describe()"
   ]
  },
  {
   "cell_type": "markdown",
   "metadata": {},
   "source": [
    "El promedio de ingreso de los couriers se encuentra en 5374 unidades monetarias del país de donde se toman los datos de operación, presumiblemente Colombia."
   ]
  },
  {
   "cell_type": "markdown",
   "metadata": {},
   "source": [
    "### Coeficiente de Variación.\n",
    "\n",
    "Se usa para medir la variabilidad de un conjunto de datos dado. A pesar de que es una medida adimensional, es útil para relacionar la desviación estándar con el tamaño de la media. Se expresa como: \n",
    "\n",
    "$$C_v = \\frac{\\sigma}{\\overline{x}}$$"
   ]
  },
  {
   "cell_type": "code",
   "execution_count": 7,
   "metadata": {},
   "outputs": [
    {
     "name": "stdout",
     "output_type": "stream",
     "text": [
      "Coeficiente de variación de to_user_distance: 57.34%\n",
      "Coeficiente de variación de to_user_elevation: 309.9%\n",
      "Coeficiente de variación de total_earning: 33.21%\n"
     ]
    }
   ],
   "source": [
    "# Coeficientes de variación para las variables numéricas\n",
    "def coef_variacion(serie):\n",
    "    return(round(np.std(serie) / np.mean(serie)*100, 2))\n",
    "\n",
    "for i in [2,3,4]:\n",
    "    print('Coeficiente de variación de {0}: {1}%'.format(dataset.columns[i], coef_variacion(dataset[dataset.columns[i]])))\n"
   ]
  },
  {
   "cell_type": "markdown",
   "metadata": {},
   "source": [
    "En este caso, la elevación en metros entre la tienda y el usuario, es la variable con mayor variabilidad del conjunto de datos, por lo que será necesario reprocesar los datos antes de aplicar cualquier tipo de metodología estadística con el fin de identificar las causas de que una orden no sea aceptada."
   ]
  }
 ],
 "metadata": {
  "kernelspec": {
   "display_name": "prueba_rappi",
   "language": "python",
   "name": "python3"
  },
  "language_info": {
   "codemirror_mode": {
    "name": "ipython",
    "version": 3
   },
   "file_extension": ".py",
   "mimetype": "text/x-python",
   "name": "python",
   "nbconvert_exporter": "python",
   "pygments_lexer": "ipython3",
   "version": "3.8.10"
  }
 },
 "nbformat": 4,
 "nbformat_minor": 2
}
